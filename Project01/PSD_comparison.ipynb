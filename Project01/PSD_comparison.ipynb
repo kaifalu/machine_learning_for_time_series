{
 "cells": [
  {
   "cell_type": "code",
   "execution_count": 1,
   "id": "7954cf57",
   "metadata": {},
   "outputs": [],
   "source": [
    "import numpy as np\n",
    "from matplotlib import pyplot as plt\n",
    "import math\n",
    "import scipy\n",
    "import scipy.io\n",
    "import soundpy as sp\n",
    "import sounddevice\n",
    "\n",
    "speech_data = scipy.io.loadmat('project1.mat')\n",
    "fs = speech_data['fs'][0]\n",
    "speech_desired = speech_data['reference'][0]\n",
    "speech_noisy = speech_data['primary'][0]"
   ]
  },
  {
   "cell_type": "code",
   "execution_count": 2,
   "id": "5e4a79d3",
   "metadata": {},
   "outputs": [],
   "source": [
    "# NLMS \n",
    "\n",
    "filter_order = 10\n",
    "\n",
    "weight_filter = np.zeros((filter_order))\n",
    "\n",
    "step_size = 0.05 # step_size\n",
    "\n",
    "weight_store = []\n",
    "\n",
    "for n in range (filter_order-1, speech_desired.shape[0]):\n",
    "    e_n = speech_desired[n] - np.dot(weight_filter, speech_noisy[n-filter_order+1:n+1][::-1])\n",
    "    weight_filter = weight_filter + step_size * speech_noisy[n-filter_order+1:n+1][::-1] * e_n / (np.linalg.norm(speech_noisy[n-filter_order+1:n+1]) ** 2 + 1e-5)\n",
    "    weight_store.append(weight_filter)\n",
    "    \n",
    "weight_store = np.array(weight_store)\n",
    "NLMS_weight = weight_store[-1]"
   ]
  },
  {
   "cell_type": "code",
   "execution_count": 3,
   "id": "77aa6911",
   "metadata": {},
   "outputs": [],
   "source": [
    "# APA1\n",
    "sample_size = 50\n",
    "\n",
    "step_size = 0.005\n",
    "\n",
    "filter_order = 10\n",
    "\n",
    "weight_filter = np.random.normal(0, 0.1, filter_order)\n",
    "\n",
    "weight_APA1_store = []\n",
    "\n",
    "for start in range(int((speech_desired.shape[0]-filter_order)/sample_size)):\n",
    "    window_filter_x = np.array([speech_noisy[start*sample_size+i:start*sample_size+i+filter_order][::-1] for i in range(sample_size)])\n",
    "    window_filter_y = np.array([speech_desired[start*sample_size+i+filter_order] for i in range(sample_size)])\n",
    "    \n",
    "    weight_filter = weight_filter + step_size * window_filter_x.T @ (window_filter_y - window_filter_x @ weight_filter)\n",
    "    \n",
    "    weight_APA1_store.append(weight_filter)\n",
    "\n",
    "weight_APA1_store = np.array(weight_APA1_store)\n",
    "APA1_weight = weight_APA1_store[-1]"
   ]
  },
  {
   "cell_type": "code",
   "execution_count": 4,
   "id": "4c55e2bb",
   "metadata": {},
   "outputs": [],
   "source": [
    "# APA2\n",
    "step_size = 0.005\n",
    "sample_size = 50\n",
    "delta = 0.001\n",
    "add_item = np.eye(sample_size) * delta\n",
    "step_size = 0.1\n",
    "filter_order = 10\n",
    "\n",
    "weight_filter = np.random.normal(0, 0.1, filter_order)\n",
    "\n",
    "weight_APA2_store = []\n",
    "\n",
    "for start in range(int((speech_desired.shape[0]-filter_order)/sample_size)):\n",
    "    window_filter_x = np.array([speech_noisy[start*sample_size+i:start*sample_size+i+filter_order][::-1] for i in range(sample_size)])\n",
    "    window_filter_y = np.array([speech_desired[start*sample_size+i+filter_order] for i in range(sample_size)])\n",
    "    \n",
    "    weight_filter = weight_filter + step_size * window_filter_x.T @ np.linalg.inv(window_filter_x @ window_filter_x.T + add_item) @ (window_filter_y - window_filter_x @ weight_filter)\n",
    "    \n",
    "    weight_APA2_store.append(weight_filter)\n",
    "\n",
    "weight_APA2_store = np.array(weight_APA2_store)\n",
    "APA2_weight = weight_APA2_store[-1]"
   ]
  },
  {
   "cell_type": "code",
   "execution_count": 5,
   "id": "4636d744",
   "metadata": {},
   "outputs": [],
   "source": [
    "# APA3\n",
    "sample_size = 50\n",
    "\n",
    "step_size = 0.001\n",
    "filter_order = 10\n",
    "\n",
    "lamda = 10\n",
    "weight_filter = np.random.normal(0, 0.1, filter_order)\n",
    "\n",
    "weight_APA3_store = []    \n",
    "\n",
    "for start in range(int((speech_desired.shape[0]-filter_order)/sample_size)):\n",
    "    window_filter_x = np.array([speech_noisy[start*sample_size+i:start*sample_size+i+filter_order][::-1] for i in range(sample_size)])\n",
    "    window_filter_y = np.array([speech_desired[start*sample_size+i+filter_order] for i in range(sample_size)])\n",
    "    \n",
    "    weight_filter = (1-step_size * lamda) * weight_filter + step_size * window_filter_x.T @ (window_filter_y - window_filter_x @ weight_filter)\n",
    "    \n",
    "    weight_APA3_store.append(weight_filter)\n",
    "\n",
    "weight_APA3_store = np.array(weight_APA3_store)\n",
    "APA3_weight = weight_APA3_store[-1]"
   ]
  },
  {
   "cell_type": "code",
   "execution_count": 6,
   "id": "188a5c3e",
   "metadata": {},
   "outputs": [],
   "source": [
    "# APA4\n",
    "sample_size = 50\n",
    "delta = 0.001\n",
    "add_item = np.eye(sample_size) * delta\n",
    "step_size = 0.1\n",
    "filter_order = 10\n",
    "\n",
    "weight_filter = np.random.normal(0, 0.1, filter_order)\n",
    "\n",
    "weight_APA4_store = []\n",
    "\n",
    "for start in range(int((speech_desired.shape[0]-filter_order)/sample_size)):\n",
    "    window_filter_x = np.array([speech_noisy[start*sample_size+i:start*sample_size+i+filter_order][::-1] for i in range(sample_size)])\n",
    "    window_filter_y = np.array([speech_desired[start*sample_size+i+filter_order] for i in range(sample_size)])\n",
    "    \n",
    "    weight_filter = (1 - step_size) * weight_filter + step_size * window_filter_x.T @ np.linalg.inv(window_filter_x @ window_filter_x.T + add_item) @ window_filter_y\n",
    "    \n",
    "    weight_APA4_store.append(weight_filter)\n",
    "    \n",
    "weight_APA4_store = np.array(weight_APA4_store)\n",
    "APA4_weight = weight_APA4_store[-1]"
   ]
  },
  {
   "cell_type": "code",
   "execution_count": 7,
   "id": "a9cf1ae8",
   "metadata": {},
   "outputs": [],
   "source": [
    "# filter_output\n",
    "filter_order = 10\n",
    "NLMS_output = []\n",
    "APA1_output = []\n",
    "APA2_output = []\n",
    "APA3_output = []\n",
    "APA4_output = []\n",
    "for i in range (filter_order-1, speech_desired.shape[0]):\n",
    "    NLMS_output.append(np.dot(NLMS_weight, speech_noisy[i-filter_order+1:i+1][::-1]))\n",
    "    APA1_output.append(np.dot(APA1_weight, speech_noisy[i-filter_order+1:i+1][::-1]))\n",
    "    APA2_output.append(np.dot(APA2_weight, speech_noisy[i-filter_order+1:i+1][::-1]))\n",
    "    APA3_output.append(np.dot(APA3_weight, speech_noisy[i-filter_order+1:i+1][::-1]))\n",
    "    APA4_output.append(np.dot(APA4_weight, speech_noisy[i-filter_order+1:i+1][::-1]))"
   ]
  },
  {
   "cell_type": "code",
   "execution_count": 17,
   "id": "05aebc1d",
   "metadata": {},
   "outputs": [
    {
     "data": {
      "image/png": "[encoded data removed]",
      "text/plain": [
       "<Figure size 432x288 with 1 Axes>"
      ]
     },
     "metadata": {
      "needs_background": "light"
     },
     "output_type": "display_data"
    }
   ],
   "source": [
    "l1 = plt.psd(speech_desired)\n",
    "l2 = plt.psd(speech_noisy)\n",
    "l3 = plt.psd(NLMS_output)\n",
    "#l4 = plt.psd(APA1_output)\n",
    "l5 = plt.psd(APA2_output)\n",
    "l6 = plt.psd(APA3_output)\n",
    "l7 = plt.psd(APA4_output)\n",
    "#plt.legend(['d(j)_desired','u(j)_noisy','y(j)_NLMS','y(j)_APA1','y(j)_APA2','y(j)_APA3','y(j)_APA4'])"
   ]
  },
  {
   "cell_type": "code",
   "execution_count": null,
   "id": "2253cc12",
   "metadata": {},
   "outputs": [],
   "source": []
  }
 ],
 "metadata": {
  "kernelspec": {
   "display_name": "Python 3 (ipykernel)",
   "language": "python",
   "name": "python3"
  },
  "language_info": {
   "codemirror_mode": {
    "name": "ipython",
    "version": 3
   },
   "file_extension": ".py",
   "mimetype": "text/x-python",
   "name": "python",
   "nbconvert_exporter": "python",
   "pygments_lexer": "ipython3",
   "version": "3.9.7"
  }
 },
 "nbformat": 4,
 "nbformat_minor": 5
}
